{
  "cells": [
    {
      "cell_type": "markdown",
      "metadata": {
        "colab_type": "text",
        "id": "view-in-github"
      },
      "source": [
        "<a href=\"https://colab.research.google.com/github/azizamirsaidova/abstractive_text_summarization/blob/main/Pegasus_Model.ipynb\" target=\"_parent\"><img src=\"https://colab.research.google.com/assets/colab-badge.svg\" alt=\"Open In Colab\"/></a>"
      ]
    },
    {
      "cell_type": "markdown",
      "metadata": {
        "id": "raZDnAwQsNJ-"
      },
      "source": [
        "**Import dependencies.**"
      ]
    },
    {
      "cell_type": "code",
      "execution_count": null,
      "metadata": {
        "id": "ljPovViFr_3m"
      },
      "outputs": [],
      "source": [
        "!pip install transformers\n",
        "!pip install sentencepiece\n",
        "!git clone https://github.com/huggingface/transformers\n",
        "\n",
        "import numpy as np \n",
        "import pandas as pd \n",
        "import nltk\n",
        "from transformers import PegasusForConditionalGeneration, PegasusTokenizer\n",
        "from transformers import AutoTokenizer\n",
        "import torch\n",
        "\n",
        "from google.colab import drive\n",
        "drive.mount('/content/gdrive')"
      ]
    },
    {
      "cell_type": "markdown",
      "metadata": {
        "id": "YUONzCHTsRy2"
      },
      "source": [
        "**Access the Dataset.**"
      ]
    },
    {
      "cell_type": "code",
      "execution_count": 2,
      "metadata": {
        "id": "Kn8hFLUKpXn6"
      },
      "outputs": [],
      "source": [
        "path = '/content/drive/MyDrive/train.csv'\n",
        "trainning_df = pd.read_csv(path, engine='python', error_bad_lines=False)"
      ]
    },
    {
      "cell_type": "code",
      "execution_count": 4,
      "metadata": {
        "id": "ftEJRN7zrBHD"
      },
      "outputs": [],
      "source": [
        "MAX_LEN = 512\n",
        "SUMMARY_LEN = 150\n",
        "TRAINNING_SIZE = 5000\n",
        "\n",
        "trainning_df = trainning_df.iloc[0:TRAINNING_SIZE,:].copy()\n",
        "\n",
        "trainning_article_ls = list(trainning_df['article'])\n",
        "trainning_highlight_ls = list(trainning_df['highlights'])\n",
        "\n",
        "del trainning_df"
      ]
    },
    {
      "cell_type": "code",
      "execution_count": 5,
      "metadata": {
        "id": "vt5lJBZsrEfx"
      },
      "outputs": [],
      "source": [
        "df = pd.DataFrame(columns=['target_text','source_text'])\n",
        "df['target_text'] = trainning_highlight_ls\n",
        "df['source_text'] = ['summarize: '+item for item in trainning_article_ls]"
      ]
    },
    {
      "cell_type": "markdown",
      "metadata": {
        "id": "3NOBMDXMsVYK"
      },
      "source": [
        "**Run Pre-trained PEGASUS on CNN/DailyMail dataset.**"
      ]
    },
    {
      "cell_type": "code",
      "execution_count": null,
      "metadata": {
        "id": "2JxoJsVJqowo"
      },
      "outputs": [],
      "source": [
        "model_name = \"google/pegasus-xsum\"\n",
        "device = \"cuda\" if torch.cuda.is_available() else \"cpu\"\n",
        "#tokenizer = PegasusTokenizer.from_pretrained(model_name)\n",
        "tokenizer = AutoTokenizer.from_pretrained(model_name)\n",
        "model = PegasusForConditionalGeneration.from_pretrained(model_name).to(device)\n",
        "batch = tokenizer(df['source_text'], truncation=True, padding=\"longest\", return_tensors=\"pt\").to(device)\n",
        "translated = model.generate(**batch)\n",
        "tgt_text = tokenizer.batch_decode(translated, skip_special_tokens=True)\n",
        "assert (tgt_text == df['target_text'])"
      ]
    }
  ],
  "metadata": {
    "colab": {
      "authorship_tag": "ABX9TyPqZ1NSi5P4tstLyefKnIwu",
      "include_colab_link": true,
      "mount_file_id": "1_H5iQSydo19sEk-jScbNClYKYQQlamBW",
      "name": "Pegasus Model.ipynb",
      "provenance": []
    },
    "kernelspec": {
      "display_name": "Python 3",
      "name": "python3"
    },
    "language_info": {
      "name": "python"
    }
  },
  "nbformat": 4,
  "nbformat_minor": 0
}
